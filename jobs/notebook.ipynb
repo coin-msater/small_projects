{
 "cells": [
  {
   "cell_type": "markdown",
   "id": "a09e6d54-bf3f-4632-b299-bd49d5c80d5f",
   "metadata": {},
   "source": [
    "A common problem when creating models to generate business value from data is that the datasets can be so large that it can take days for the model to generate predictions. Ensuring that your dataset is stored as efficiently as possible is crucial for allowing these models to run on a more reasonable timescale without having to reduce the size of the dataset.\n",
    "\n",
    "You've been hired by a major online data science training provider called *Training Data Ltd.* to clean up one of their largest customer datasets. This dataset will eventually be used to predict whether their students are looking for a new job or not, information that they will then use to direct them to prospective recruiters.\n",
    "\n",
    "You've been given access to `customer_train.csv`, which is a subset of their entire customer dataset, so you can create a proof-of-concept of a much more efficient storage solution. The dataset contains anonymized student information, and whether they were looking for a new job or not during training:\n",
    "\n",
    "| Column                   | Description                                                                      |\n",
    "|------------------------- |--------------------------------------------------------------------------------- |\n",
    "| `student_id`             | A unique ID for each student.                                                    |\n",
    "| `city`                   | A code for the city the student lives in.                                        |\n",
    "| `city_development_index` | A scaled development index for the city.                                         |\n",
    "| `gender`                 | The student's gender.                                                            |\n",
    "| `relevant_experience`    | An indicator of the student's work relevant experience.                          |\n",
    "| `enrolled_university`    | The type of university course enrolled in (if any).                              |\n",
    "| `education_level`        | The student's education level.                                                   |\n",
    "| `major_discipline`       | The educational discipline of the student.                                       |\n",
    "| `experience`             | The student's total work experience (in years).                                  |\n",
    "| `company_size`           | The number of employees at the student's current employer.                       |\n",
    "| `company_type`           | The type of company employing the student.                                       |\n",
    "| `last_new_job`           | The number of years between the student's current and previous jobs.             |\n",
    "| `training_hours`         | The number of hours of training completed.                                       |\n",
    "| `job_change`             | An indicator of whether the student is looking for a new job (`1`) or not (`0`). |"
   ]
  },
  {
   "cell_type": "markdown",
   "id": "a9bcc592",
   "metadata": {},
   "source": [
    "The Head Data Scientist at Training Data Ltd. has asked you to create a DataFrame called ds_jobs_transformed that stores the data in customer_train.csv much more efficiently. Specifically, they have set the following requirements:\n",
    "\n",
    "- Columns containing categories with only two factors must be stored as Booleans (bool).\n",
    "- Columns containing integers only must be stored as 32-bit integers (int32).\n",
    "- Columns containing floats must be stored as 16-bit floats (float16).\n",
    "- Columns containing nominal categorical data must be stored as the category data type.\n",
    "- Columns containing ordinal categorical data must be stored as ordered categories, and not mapped to numerical values, with an order that reflects the natural order of the column.\n",
    "- The DataFrame should be filtered to only contain students with 10 or more years of experience at companies with at least 1000 employees, as their recruiter base is suited to more experienced professionals at enterprise companies.\n",
    "\n",
    "If you call .info() or .memory_usage() methods on ds_jobs and ds_jobs_transformed after you've preprocessed it, you should notice a substantial decrease in memory usage."
   ]
  },
  {
   "cell_type": "code",
   "execution_count": 100,
   "id": "eda9c1b2-4e9a-41ac-8da6-d4c98775f986",
   "metadata": {
    "executionCancelledAt": null,
    "executionTime": null,
    "lastExecutedAt": null,
    "lastExecutedByKernel": null,
    "lastScheduledRunId": null,
    "lastSuccessfullyExecutedCode": null,
    "outputsMetadata": {
     "0": {
      "height": 550,
      "tableState": {},
      "type": "dataFrame"
     }
    }
   },
   "outputs": [
    {
     "data": {
      "text/plain": [
       "enrolled_university\n",
       "no_enrollment       13817\n",
       "Full time course     3757\n",
       "Part time course     1198\n",
       "Name: count, dtype: int64"
      ]
     },
     "execution_count": 100,
     "metadata": {},
     "output_type": "execute_result"
    }
   ],
   "source": [
    "# Import necessary libraries\n",
    "import pandas as pd\n",
    "import numpy as np\n",
    "\n",
    "# Load the dataset\n",
    "ds_jobs = pd.read_csv(\"customer_train.csv\")\n",
    "\n",
    "# View the dataset\n",
    "ds_jobs.enrolled_university.value_counts()"
   ]
  },
  {
   "cell_type": "code",
   "execution_count": 97,
   "id": "13757e62-aca2-48f4-b569-a838af11bdd5",
   "metadata": {},
   "outputs": [
    {
     "data": {
      "text/plain": [
       "Index                       132\n",
       "student_id                76632\n",
       "city                      24310\n",
       "city_development_index    38316\n",
       "gender                    19290\n",
       "relevant_experience       19158\n",
       "enrolled_university       19290\n",
       "education_level           19370\n",
       "major_discipline          19378\n",
       "experience                19890\n",
       "company_size              19522\n",
       "company_type              19378\n",
       "last_new_job              19378\n",
       "training_hours            76632\n",
       "job_change                19158\n",
       "dtype: int64"
      ]
     },
     "execution_count": 97,
     "metadata": {},
     "output_type": "execute_result"
    }
   ],
   "source": [
    "# Create a copy of ds_jobs for transforming\n",
    "ds_jobs_transformed = ds_jobs.copy()\n",
    "\n",
    "# 1\n",
    "ds_jobs_transformed['relevant_experience'] = np.where(ds_jobs_transformed['relevant_experience'] == 'Has relevant experience', True, False)\n",
    "\n",
    "# 2, 3, 4\n",
    "ds_jobs_transformed = ds_jobs_transformed.astype({'job_change': 'bool', 'relevant_experience': 'bool', \n",
    "                                                  'student_id': 'int32', 'training_hours':'int32', \n",
    "                                                  'city_development_index': 'float16',\n",
    "                                                  'city' : 'category', 'gender': 'category', 'major_discipline': 'category', 'enrolled_university' : 'category', 'company_type': 'category', \n",
    "                                                  'education_level': 'category', 'experience': 'category', 'last_new_job': 'category', 'company_size': 'category'})\n",
    "\n",
    "# 5\n",
    "ds_jobs_transformed['education_level'] = ds_jobs_transformed['education_level'].cat.reorder_categories(['Primary School', 'High School', 'Graduate', 'Masters', 'Phd'], ordered = True)\n",
    "experience_cat = ['<1'] + list(map(lambda x: str(x), list(range(1, 21)))) + ['>20']\n",
    "ds_jobs_transformed['experience'] = ds_jobs_transformed['experience'].cat.reorder_categories(experience_cat, ordered = True)\n",
    "ds_jobs_transformed['last_new_job'] = ds_jobs_transformed['last_new_job'].cat.reorder_categories(['never', '1', '2', '3', '4', '>4'], ordered = True)\n",
    "ds_jobs_transformed['company_size'] = ds_jobs_transformed['company_size'].cat.reorder_categories(['<10', '10-49', '50-99', '100-499', '500-999', '1000-4999', '5000-9999', '10000+'], ordered = True)\n",
    "\n",
    "# 6\n",
    "ds_jobs_transformed = ds_jobs_transformed.loc[(ds_jobs_transformed['company_size'] > '500-999') & (ds_jobs_transformed['experience'] > '9')]"
   ]
  }
 ],
 "metadata": {
  "editor": "DataCamp Workspace",
  "kernelspec": {
   "display_name": "base",
   "language": "python",
   "name": "python3"
  },
  "language_info": {
   "codemirror_mode": {
    "name": "ipython",
    "version": 3
   },
   "file_extension": ".py",
   "mimetype": "text/x-python",
   "name": "python",
   "nbconvert_exporter": "python",
   "pygments_lexer": "ipython3",
   "version": "3.13.5"
  }
 },
 "nbformat": 4,
 "nbformat_minor": 5
}
