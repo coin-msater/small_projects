{
 "cells": [
  {
   "cell_type": "markdown",
   "id": "a62a7d2e",
   "metadata": {},
   "source": [
    "# Mega Cheatsheet for Python\n",
    "#### A summary of useful functions from the various Python libraries used for data processing and analysis."
   ]
  },
  {
   "cell_type": "markdown",
   "id": "0eb1a2be",
   "metadata": {},
   "source": [
    "1. NumPy"
   ]
  },
  {
   "cell_type": "code",
   "execution_count": null,
   "id": "0e1067e5",
   "metadata": {},
   "outputs": [],
   "source": [
    "import numpy as np\n",
    "\n",
    "## 1.1 Basic functions\n",
    "a = np.array(([1,2,3], \n",
    "             [4,5,6],\n",
    "             [7,8,9]))\n",
    "b = np.arange(10, 25, 5) # start, stop, step\n",
    "c = np.linspace(0, 2, 9) # start, stop, number of points\n",
    "d = np.random.random(5)\n",
    "\n",
    "e = np.eye(5) # 5x5 identity matrix\n",
    "f = np.zeros(8)\n",
    "g = np.random.rand(3, 3) # 3x3 random matrix"
   ]
  },
  {
   "cell_type": "code",
   "execution_count": null,
   "id": "3784042d",
   "metadata": {},
   "outputs": [
    {
     "data": {
      "text/plain": [
       "[array([[1, 2, 3],\n",
       "        [4, 5, 6]]),\n",
       " array([], shape=(0, 3), dtype=int64),\n",
       " array([[4, 5, 6],\n",
       "        [7, 8, 9]])]"
      ]
     },
     "execution_count": 54,
     "metadata": {},
     "output_type": "execute_result"
    }
   ],
   "source": [
    "## 1.2 Linear algebra operations\n",
    "np.sqrt(a)\n",
    "np.log(a)\n",
    "np.exp(a)\n",
    "\n",
    "a.dot(g) # dot product\n",
    "np.transpose(a)\n",
    "\n",
    "a.ravel() # flatten to 1D\n",
    "f.reshape(4, 2) # reshape to 4x2\n",
    "e.resize(5, 5) # flattens then reshapes\n",
    "\n",
    "np.c_[a, g] # reshapes for you!!\n",
    "np.append(a, g, axis = 1) # joining arrays, MUST HAVE SAME DIM ALONG AXIS\n",
    "np.vstack((a, g))\n",
    "np.hstack((a, g))\n",
    "\n",
    "np.hsplit(a, (2,1))\n",
    "np.vsplit(a, (2,1))"
   ]
  },
  {
   "cell_type": "code",
   "execution_count": 11,
   "id": "6a1f0186",
   "metadata": {},
   "outputs": [
    {
     "data": {
      "text/plain": [
       "False"
      ]
     },
     "execution_count": 11,
     "metadata": {},
     "output_type": "execute_result"
    }
   ],
   "source": [
    "## 1.3 Inspecting array\n",
    "a.shape\n",
    "a.ndim\n",
    "a.size\n",
    "a.dtype\n",
    "\n",
    "a[1, 2] \n",
    "a[: , 1] # all the rows, only col 1\n",
    "a[[1, 0, 1, 2], [0, 1, 0, 2]] # elems at positions (1,0), (0,1) etc.\n",
    "\n",
    "a == g # elem wise comparison\n",
    "np.array_equal(a, b) # array wise comparison"
   ]
  },
  {
   "cell_type": "markdown",
   "id": "8b3a85a5",
   "metadata": {},
   "source": [
    "2. Pandas"
   ]
  },
  {
   "cell_type": "code",
   "execution_count": null,
   "id": "2fcba348",
   "metadata": {},
   "outputs": [],
   "source": [
    "import pandas as pd\n",
    "from sklearn.datasets import load_iris\n",
    "iris = load_iris()\n",
    "iris = pd.DataFrame(data = np.c_[iris['data'], iris['target']],\n",
    "                    columns = iris['feature_names'] + ['target'])\n",
    "\n",
    "my_data = [\"A\", \"A\", \"C\", \"B\", \"C\", \"A\"]\n",
    "my_series2 = pd.Categorical(my_data, categories=[\"C\", \"B\", \"A\"], ordered=True) # creating categorical ordered series\n"
   ]
  },
  {
   "cell_type": "code",
   "execution_count": null,
   "id": "dd3c6096",
   "metadata": {},
   "outputs": [],
   "source": [
    "## 2.1 DataFrame maniupulation\n",
    "\n",
    "pd.read_csv('xyz.csv')\n",
    "pd.read_csv(\"adult.csv\", dtype = {\"Workclass\": \"category\", \"Education\": \"category\"}) # with specification of dtypes\n",
    "pd.read_excel('xyz.xls', 'Sheet1')\n",
    "\n",
    "iris['petal length (cm)'] = iris['petal length (cm)'].astype('float') # type coercion\n",
    "pd.to_datetime(df)\n",
    "\n",
    "iris.sort_values('petal length (cm)', ascending = True) # sort by values\n",
    "iris.sort_index(ascending = False) # sort by index ; not useful here\n",
    "iris.reset_index(drop = True, inplace = True) # reset index to number, drop index col\n",
    "\n",
    "iris.rename(columns = {'petal length (cm)': 'petal length (inch)'})\n",
    "\n",
    "iris.drop('petal length (cm)', axis = 1) # drop col/row\n",
    "iris.dropna()\n",
    "iris.fillna(1)"
   ]
  },
  {
   "cell_type": "code",
   "execution_count": null,
   "id": "d0a801c6",
   "metadata": {},
   "outputs": [],
   "source": [
    "## 2.2 Pivot wide and long\n",
    "\n",
    "df.pivot(index = 'col1', columns = 'col2', values = ['col3', 'col4']) # take the values of: col1 as index, col2 as column names, remain as values\n",
    "\n",
    "### e.g.\n",
    "df_long = pd.DataFrame({'id': [1, 1, 2, 2],\n",
    "                        'subject': ['math', 'science', 'math', 'science'],\n",
    "                        'score': [90, 85, 80, 95]\n",
    "                        })\n",
    "\n",
    "df_long.pivot(index='id', columns='subject', values='score').reset_index()\n",
    "\n",
    "### e.g.\n",
    "df = pd.DataFrame({\n",
    "    'id': [1, 2],\n",
    "    'math': [90, 80],\n",
    "    'science': [85, 95]\n",
    "})\n",
    "\n",
    "# Melt it\n",
    "pd.melt(df, id_vars='id', var_name='subject', value_name='score')"
   ]
  },
  {
   "cell_type": "code",
   "execution_count": null,
   "id": "9ca468d1",
   "metadata": {},
   "outputs": [
    {
     "data": {
      "text/plain": [
       "np.float64(1.4)"
      ]
     },
     "execution_count": 72,
     "metadata": {},
     "output_type": "execute_result"
    }
   ],
   "source": [
    "## 2.3 Retrieving values & slicing\n",
    "\n",
    "iris.columns # all col labels\n",
    "iris.values # all values\n",
    "iris.iloc[58, 2] == iris.loc[58, 'petal length (cm)'] # retriving values\n",
    "\n",
    "iris.loc[iris['petal length (cm)'] <= 2]\n",
    "iris.loc[:, 'sepal length (cm)':'sepal width (cm)'] \n",
    "\n",
    "iris.loc[iris['petal length (cm)'] <= 2, ['sepal length (cm)', 'sepal width (cm)']] # using conditions, bottom line is to have (row, col)\n",
    "\n",
    "iris[iris['petal length (cm)'] <= 2]\n",
    "iris[['sepal length (cm)', 'sepal width (cm)']]\n",
    "\n",
    "iris.iat[1, 2]"
   ]
  },
  {
   "cell_type": "code",
   "execution_count": null,
   "id": "bc45c0c1",
   "metadata": {},
   "outputs": [
    {
     "data": {
      "text/plain": [
       "target\n",
       "0.0    50\n",
       "1.0    50\n",
       "2.0    50\n",
       "Name: count, dtype: int64"
      ]
     },
     "execution_count": 77,
     "metadata": {},
     "output_type": "execute_result"
    }
   ],
   "source": [
    "## 2.4 Summarizing data\n",
    "\n",
    "iris.shape\n",
    "iris.size()\n",
    "iris.info()\n",
    "iris.describe() # description and stats for each col eg. iqr\n",
    "iris['petal length (cm)'].describe() # description for a single col\n",
    "\n",
    "iris.sample(5)\n",
    "iris.nlargest(2, 'petal length (cm)') # get the max/min directly\n",
    "\n",
    "iris['target'].value_counts() # count number of rows for a variable\n",
    "iris['target'].value_counts(normalize = True) # relative freq for a variable\n",
    "iris['target'].nunique()\n",
    "\n",
    "### 2.4.1 groupby and agg\n",
    "iris.groupby(by = ['petal length (cm)', 'pedal width (cm)'])['sepal width (cm)'].mean() # note we need to specify which col to agg on still\n",
    "\n",
    "unemployment[[\"continent\", \"2019\", \"2020\"]].groupby('continent').agg(['mean', 'std']) # groupby then summarise with agg functions\n",
    "continent_summary = unemployment.groupby(\"continent\").agg(mean_rate_2021 = (\"2021\", \"mean\"), std_rate_2021 = (\"2021\", \"std\"))\n",
    "                                                        # name of summary col = (col to use, func to use)"
   ]
  },
  {
   "cell_type": "code",
   "execution_count": null,
   "id": "39ba9772",
   "metadata": {},
   "outputs": [],
   "source": [
    "## 2.5 Joining data frames\n",
    "pd.concat([df1, df2], axis = 0, ignore_index = True)\n",
    "pd.merge(df1, df2, how = 'left', on = 'A') # other joining methods also avail"
   ]
  },
  {
   "cell_type": "code",
   "execution_count": 2,
   "id": "3c966c08",
   "metadata": {},
   "outputs": [
    {
     "ename": "NameError",
     "evalue": "name 'pd' is not defined",
     "output_type": "error",
     "traceback": [
      "\u001b[1;31m---------------------------------------------------------------------------\u001b[0m",
      "\u001b[1;31mNameError\u001b[0m                                 Traceback (most recent call last)",
      "Cell \u001b[1;32mIn[2], line 2\u001b[0m\n\u001b[0;32m      1\u001b[0m \u001b[38;5;66;03m# 2.6 pd.Series.cat\u001b[39;00m\n\u001b[1;32m----> 2\u001b[0m s \u001b[38;5;241m=\u001b[39m pd\u001b[38;5;241m.\u001b[39mSeries(\u001b[38;5;28mlist\u001b[39m(\u001b[38;5;124m\"\u001b[39m\u001b[38;5;124mabbccc\u001b[39m\u001b[38;5;124m\"\u001b[39m))\u001b[38;5;241m.\u001b[39mastype(\u001b[38;5;124m\"\u001b[39m\u001b[38;5;124mcategory\u001b[39m\u001b[38;5;124m\"\u001b[39m)\n\u001b[0;32m      4\u001b[0m s\u001b[38;5;241m.\u001b[39mcat\u001b[38;5;241m.\u001b[39mcategories \u001b[38;5;66;03m# print categories (of a specific col if specified)\u001b[39;00m\n\u001b[0;32m      6\u001b[0m s\u001b[38;5;241m.\u001b[39mcat\u001b[38;5;241m.\u001b[39mreorder_categories([\u001b[38;5;124m'\u001b[39m\u001b[38;5;124mb\u001b[39m\u001b[38;5;124m'\u001b[39m, \u001b[38;5;124m'\u001b[39m\u001b[38;5;124mc\u001b[39m\u001b[38;5;124m'\u001b[39m, \u001b[38;5;124m'\u001b[39m\u001b[38;5;124ma\u001b[39m\u001b[38;5;124m'\u001b[39m], ordered\u001b[38;5;241m=\u001b[39m\u001b[38;5;28;01mTrue\u001b[39;00m) \u001b[38;5;66;03m# reorder categories\u001b[39;00m\n",
      "\u001b[1;31mNameError\u001b[0m: name 'pd' is not defined"
     ]
    }
   ],
   "source": [
    "# 2.6 pd.Series.cat\n",
    "s = pd.Series(list(\"abbccc\")).astype(\"category\")\n",
    "\n",
    "s.cat.categories # print categories (of a specific col if specified)\n",
    "\n",
    "s.cat.reorder_categories(['b', 'c', 'a'], ordered=True) # reorder categories\n",
    "s.cat.add_categories(['d', 'e'], inplace=True) # add categories\n",
    "s.cat.remove_unused_categories(inplace=True) # remove unused categories\n",
    "\n",
    "s.cat.rename_categories({'c': 'charlie', 'b': 'bravo', 'a': 'alpha'})\n",
    "s.cat.rename_categories(lambda x: x.upper())\n",
    "\n",
    "s.replace({'c': 'bravo', 'b': 'bravo'}) # collapse categories\n",
    "s.astype('category') # change to category type after collapsing"
   ]
  },
  {
   "cell_type": "code",
   "execution_count": null,
   "id": "37cccaf4",
   "metadata": {},
   "outputs": [],
   "source": [
    "# categorical variable encoding \n",
    "s.cat.codes # change categories to codes, assign to a new col if required \n",
    "\n",
    "codes = used_cars['color_code']\n",
    "categories = used_cars[\"color\"]\n",
    "color_map = dict(zip(codes, categories)) # zip() makes tuples of (code, category)\n",
    "\n",
    "used_cars[\"is_volkswagen\"] = np.where(\n",
    "  used_cars[\"manufacturer_name\"].str.contains(\"Volkswagen\", regex=False), 1, 0) # create a new column based on if name contains \"Volkswagen\"\n",
    "\n",
    "### one hot encoding\n",
    "pd.get_dummies(used_cars[\"manufacturer_name\"], prefix=\"manufacturer\") # one hot encoding for categorical variable, meaning make cols for each category with 1s and 0s"
   ]
  },
  {
   "cell_type": "code",
   "execution_count": null,
   "id": "c337d58c",
   "metadata": {},
   "outputs": [],
   "source": [
    "# 2.7 pd.Series.str for data cleaning!\n",
    "s = pd.Series(['a', 'b', 'c'])\n",
    "s.str.lower() # also upper(), title()\n",
    "s.str.strip() # remove leading and trailing spaces\n",
    "\n",
    "s.str.contains('a') # check if contains a string\n",
    "\n",
    "s.str.replace('a', 'A') # replace a string with another\n",
    "s.str.split('a') # split by a string\n"
   ]
  },
  {
   "cell_type": "markdown",
   "id": "afc83ed9",
   "metadata": {},
   "source": [
    "3. Matplotlib"
   ]
  },
  {
   "cell_type": "code",
   "execution_count": null,
   "id": "6d9557f0",
   "metadata": {},
   "outputs": [],
   "source": [
    "import matplotlib.pyplot as plt"
   ]
  },
  {
   "cell_type": "code",
   "execution_count": 1,
   "id": "ccfe08f3",
   "metadata": {},
   "outputs": [
    {
     "data": {
      "image/png": "[encoded data removed]",
      "text/plain": [
       "<Figure size 1200x500 with 2 Axes>"
      ]
     },
     "metadata": {},
     "output_type": "display_data"
    }
   ],
   "source": [
    "# E.g. of plotting\n",
    "import seaborn as sns\n",
    "import matplotlib.pyplot as plt\n",
    "\n",
    "# Load Seaborn built-in dataset\n",
    "tips = sns.load_dataset(\"tips\")\n",
    "\n",
    "# Create a figure with 1 row and 2 columns of subplots\n",
    "fig, ax = plt.subplots(1, 2, figsize=(12, 5))\n",
    "\n",
    "# Histogram of total bill on the first axis\n",
    "sns.histplot(data=tips, x=\"total_bill\", bins=20, kde=True, ax=ax[0])\n",
    "ax[0].set_title(\"Histogram of Total Bill\")\n",
    "\n",
    "# Boxplot of total bill by day on the second axis\n",
    "sns.boxplot(data=tips, x=\"day\", y=\"total_bill\", ax=ax[1])\n",
    "ax[1].set_title(\"Boxplot of Total Bill by Day\")\n",
    "\n",
    "# Adjust layout\n",
    "plt.tight_layout()\n",
    "plt.show()\n"
   ]
  }
 ],
 "metadata": {
  "kernelspec": {
   "display_name": "base",
   "language": "python",
   "name": "python3"
  },
  "language_info": {
   "codemirror_mode": {
    "name": "ipython",
    "version": 3
   },
   "file_extension": ".py",
   "mimetype": "text/x-python",
   "name": "python",
   "nbconvert_exporter": "python",
   "pygments_lexer": "ipython3",
   "version": "3.13.5"
  }
 },
 "nbformat": 4,
 "nbformat_minor": 5
}
